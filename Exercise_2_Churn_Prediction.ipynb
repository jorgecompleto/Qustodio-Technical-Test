{
 "cells": [
  {
   "cell_type": "markdown",
   "id": "e014dfd3-6f4c-4671-b43d-885ed20ff5e8",
   "metadata": {},
   "source": [
    "### Exercise 2 - Create a model to predict customer churn"
   ]
  },
  {
   "cell_type": "markdown",
   "id": "510ce1de-6eed-4896-b471-41c791db1b57",
   "metadata": {},
   "source": []
  },
  {
   "cell_type": "code",
   "execution_count": null,
   "id": "aebcbc44-0405-4c8f-a838-08cce67f2d32",
   "metadata": {},
   "outputs": [],
   "source": []
  },
  {
   "cell_type": "markdown",
   "id": "90ba0633-71f2-4a9f-a469-ee4b1995cdb6",
   "metadata": {},
   "source": [
    "### 1. Data Preparation"
   ]
  },
  {
   "cell_type": "code",
   "execution_count": null,
   "id": "fcb9fd30-9135-422d-878a-93542874ee6a",
   "metadata": {},
   "outputs": [],
   "source": []
  },
  {
   "cell_type": "markdown",
   "id": "b87c364e-312e-4886-8328-0e84e9c0baa2",
   "metadata": {},
   "source": [
    "### 2. Create Churn Label"
   ]
  },
  {
   "cell_type": "code",
   "execution_count": null,
   "id": "40ccc88d-c269-412c-8418-f8538c775301",
   "metadata": {},
   "outputs": [],
   "source": []
  },
  {
   "cell_type": "markdown",
   "id": "00c30910-bcd1-4397-99f3-042075527efa",
   "metadata": {},
   "source": [
    "### 3. Feature Engineering"
   ]
  },
  {
   "cell_type": "code",
   "execution_count": null,
   "id": "7535c706-b95a-4989-b936-135072aecb68",
   "metadata": {},
   "outputs": [],
   "source": []
  },
  {
   "cell_type": "markdown",
   "id": "db335de6-e184-4a1b-8f6a-d14e5fdb053a",
   "metadata": {},
   "source": [
    "### 4. Model Building"
   ]
  },
  {
   "cell_type": "code",
   "execution_count": null,
   "id": "b1baaee4-bf02-4e3c-9a82-e5ebd0ecc75b",
   "metadata": {},
   "outputs": [],
   "source": []
  },
  {
   "cell_type": "code",
   "execution_count": null,
   "id": "b6ff40cf-3996-4822-b218-9b20c1ecc99a",
   "metadata": {},
   "outputs": [],
   "source": []
  },
  {
   "cell_type": "markdown",
   "id": "db1c54d3-7bcc-4383-89e4-3ab6186c01bc",
   "metadata": {},
   "source": [
    "### 5. Model Evaluation"
   ]
  },
  {
   "cell_type": "code",
   "execution_count": null,
   "id": "e98ff057-4fc7-445e-a71e-57430c786fd0",
   "metadata": {},
   "outputs": [],
   "source": []
  },
  {
   "cell_type": "code",
   "execution_count": null,
   "id": "d9f8b67d-8f1c-4668-b314-44d92f58fc48",
   "metadata": {},
   "outputs": [],
   "source": []
  },
  {
   "cell_type": "markdown",
   "id": "ffb61386-ef2c-454b-a8eb-c97cfaaabb7d",
   "metadata": {},
   "source": [
    "### 6. Conclusions"
   ]
  },
  {
   "cell_type": "code",
   "execution_count": null,
   "id": "5f60a36f-2d96-4d61-82dd-9ef069f90ea2",
   "metadata": {},
   "outputs": [],
   "source": []
  },
  {
   "cell_type": "markdown",
   "id": "f26dbc7c-8e8c-4f4d-ae97-937921cc1673",
   "metadata": {},
   "source": [
    "### 7. Predictions"
   ]
  },
  {
   "cell_type": "code",
   "execution_count": null,
   "id": "ae5ab932-1962-4e7d-be69-e586f205fe75",
   "metadata": {},
   "outputs": [],
   "source": []
  }
 ],
 "metadata": {
  "kernelspec": {
   "display_name": "fintech",
   "language": "python",
   "name": "fintech"
  },
  "language_info": {
   "codemirror_mode": {
    "name": "ipython",
    "version": 3
   },
   "file_extension": ".py",
   "mimetype": "text/x-python",
   "name": "python",
   "nbconvert_exporter": "python",
   "pygments_lexer": "ipython3",
   "version": "3.10.9"
  }
 },
 "nbformat": 4,
 "nbformat_minor": 5
}
