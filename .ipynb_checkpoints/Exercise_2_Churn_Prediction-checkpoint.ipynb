{
 "cells": [
  {
   "cell_type": "markdown",
   "id": "e014dfd3-6f4c-4671-b43d-885ed20ff5e8",
   "metadata": {},
   "source": [
    "### Exercise 2 - Create a model to predict customer churn"
   ]
  },
  {
   "cell_type": "markdown",
   "id": "510ce1de-6eed-4896-b471-41c791db1b57",
   "metadata": {},
   "source": [
    "### 0. Import packages"
   ]
  },
  {
   "cell_type": "code",
   "execution_count": 102,
   "id": "aebcbc44-0405-4c8f-a838-08cce67f2d32",
   "metadata": {},
   "outputs": [],
   "source": [
    "import pandas as pd\n",
    "import os\n",
    "import gc"
   ]
  },
  {
   "cell_type": "markdown",
   "id": "90ba0633-71f2-4a9f-a469-ee4b1995cdb6",
   "metadata": {},
   "source": [
    "### 1. Data Preparation"
   ]
  },
  {
   "cell_type": "markdown",
   "id": "24408996-2ca6-46a0-8507-5c43291ea248",
   "metadata": {},
   "source": [
    "#### Read the data"
   ]
  },
  {
   "cell_type": "code",
   "execution_count": 103,
   "id": "fcb9fd30-9135-422d-878a-93542874ee6a",
   "metadata": {},
   "outputs": [],
   "source": [
    "path = '~/Documents/Git/Qustodio-Technical-Test/'\n",
    "sales = pd.read_csv(os.path.join(path, 'sales.csv'))\n",
    "user_activity = pd.read_csv(os.path.join(path, 'user_activity.csv'))"
   ]
  },
  {
   "cell_type": "code",
   "execution_count": 104,
   "id": "1ff2cc2f-dca4-4378-b1ec-887aee89f537",
   "metadata": {},
   "outputs": [
    {
     "data": {
      "text/html": [
       "<div>\n",
       "<style scoped>\n",
       "    .dataframe tbody tr th:only-of-type {\n",
       "        vertical-align: middle;\n",
       "    }\n",
       "\n",
       "    .dataframe tbody tr th {\n",
       "        vertical-align: top;\n",
       "    }\n",
       "\n",
       "    .dataframe thead th {\n",
       "        text-align: right;\n",
       "    }\n",
       "</style>\n",
       "<table border=\"1\" class=\"dataframe\">\n",
       "  <thead>\n",
       "    <tr style=\"text-align: right;\">\n",
       "      <th></th>\n",
       "      <th>order_id</th>\n",
       "      <th>account_id</th>\n",
       "      <th>start_date</th>\n",
       "      <th>plan</th>\n",
       "      <th>amount</th>\n",
       "      <th>currency</th>\n",
       "      <th>Unnamed: 6</th>\n",
       "    </tr>\n",
       "  </thead>\n",
       "  <tbody>\n",
       "    <tr>\n",
       "      <th>0</th>\n",
       "      <td>C5G1ckzVUC1V</td>\n",
       "      <td>36369294</td>\n",
       "      <td>2019-03-17</td>\n",
       "      <td>MEDIUM</td>\n",
       "      <td>12.95</td>\n",
       "      <td>EUR</td>\n",
       "      <td>NaN</td>\n",
       "    </tr>\n",
       "    <tr>\n",
       "      <th>1</th>\n",
       "      <td>LyPKxILXvkiu</td>\n",
       "      <td>36369294</td>\n",
       "      <td>2019-04-17</td>\n",
       "      <td>MEDIUM</td>\n",
       "      <td>12.95</td>\n",
       "      <td>EUR</td>\n",
       "      <td>NaN</td>\n",
       "    </tr>\n",
       "    <tr>\n",
       "      <th>2</th>\n",
       "      <td>729R0C9dVx49</td>\n",
       "      <td>36369294</td>\n",
       "      <td>2019-05-17</td>\n",
       "      <td>MEDIUM</td>\n",
       "      <td>12.95</td>\n",
       "      <td>EUR</td>\n",
       "      <td>NaN</td>\n",
       "    </tr>\n",
       "    <tr>\n",
       "      <th>3</th>\n",
       "      <td>RrxBXQYG9Qn8</td>\n",
       "      <td>13708705</td>\n",
       "      <td>2020-08-28</td>\n",
       "      <td>SMALL</td>\n",
       "      <td>8.95</td>\n",
       "      <td>EUR</td>\n",
       "      <td>NaN</td>\n",
       "    </tr>\n",
       "    <tr>\n",
       "      <th>4</th>\n",
       "      <td>iYemtey2MjLT</td>\n",
       "      <td>940537915</td>\n",
       "      <td>2020-07-17</td>\n",
       "      <td>SMALL</td>\n",
       "      <td>8.95</td>\n",
       "      <td>EUR</td>\n",
       "      <td>NaN</td>\n",
       "    </tr>\n",
       "  </tbody>\n",
       "</table>\n",
       "</div>"
      ],
      "text/plain": [
       "       order_id   account_id   start_date     plan   amount  currency  \\\n",
       "0  C5G1ckzVUC1V     36369294   2019-03-17   MEDIUM    12.95       EUR   \n",
       "1  LyPKxILXvkiu     36369294   2019-04-17   MEDIUM    12.95       EUR   \n",
       "2  729R0C9dVx49     36369294   2019-05-17   MEDIUM    12.95       EUR   \n",
       "3  RrxBXQYG9Qn8     13708705   2020-08-28    SMALL     8.95       EUR   \n",
       "4  iYemtey2MjLT    940537915   2020-07-17    SMALL     8.95       EUR   \n",
       "\n",
       "   Unnamed: 6  \n",
       "0         NaN  \n",
       "1         NaN  \n",
       "2         NaN  \n",
       "3         NaN  \n",
       "4         NaN  "
      ]
     },
     "execution_count": 104,
     "metadata": {},
     "output_type": "execute_result"
    }
   ],
   "source": [
    "sales.head()"
   ]
  },
  {
   "cell_type": "code",
   "execution_count": 105,
   "id": "15b55f6e-69d8-446a-bb7b-df23cef9a6ea",
   "metadata": {},
   "outputs": [
    {
     "data": {
      "text/html": [
       "<div>\n",
       "<style scoped>\n",
       "    .dataframe tbody tr th:only-of-type {\n",
       "        vertical-align: middle;\n",
       "    }\n",
       "\n",
       "    .dataframe tbody tr th {\n",
       "        vertical-align: top;\n",
       "    }\n",
       "\n",
       "    .dataframe thead th {\n",
       "        text-align: right;\n",
       "    }\n",
       "</style>\n",
       "<table border=\"1\" class=\"dataframe\">\n",
       "  <thead>\n",
       "    <tr style=\"text-align: right;\">\n",
       "      <th></th>\n",
       "      <th>account_id</th>\n",
       "      <th>gender</th>\n",
       "      <th>genre1</th>\n",
       "      <th>genre2</th>\n",
       "      <th>type</th>\n",
       "      <th>games</th>\n",
       "      <th>age</th>\n",
       "      <th>hours</th>\n",
       "    </tr>\n",
       "  </thead>\n",
       "  <tbody>\n",
       "    <tr>\n",
       "      <th>0</th>\n",
       "      <td>101530</td>\n",
       "      <td>male</td>\n",
       "      <td>role-playing</td>\n",
       "      <td>action</td>\n",
       "      <td>mobile</td>\n",
       "      <td>8</td>\n",
       "      <td>21</td>\n",
       "      <td>7.573853</td>\n",
       "    </tr>\n",
       "    <tr>\n",
       "      <th>1</th>\n",
       "      <td>731892</td>\n",
       "      <td>female</td>\n",
       "      <td>adventure</td>\n",
       "      <td>action</td>\n",
       "      <td>computer</td>\n",
       "      <td>9</td>\n",
       "      <td>25</td>\n",
       "      <td>4.620231</td>\n",
       "    </tr>\n",
       "    <tr>\n",
       "      <th>2</th>\n",
       "      <td>856432</td>\n",
       "      <td>male</td>\n",
       "      <td>action</td>\n",
       "      <td>role-playing</td>\n",
       "      <td>mobile</td>\n",
       "      <td>19</td>\n",
       "      <td>35</td>\n",
       "      <td>13.608988</td>\n",
       "    </tr>\n",
       "    <tr>\n",
       "      <th>3</th>\n",
       "      <td>1425820</td>\n",
       "      <td>male</td>\n",
       "      <td>adventure</td>\n",
       "      <td>adventure</td>\n",
       "      <td>mobile</td>\n",
       "      <td>8</td>\n",
       "      <td>20</td>\n",
       "      <td>8.648719</td>\n",
       "    </tr>\n",
       "    <tr>\n",
       "      <th>4</th>\n",
       "      <td>1881252</td>\n",
       "      <td>male</td>\n",
       "      <td>action</td>\n",
       "      <td>strategy</td>\n",
       "      <td>computer</td>\n",
       "      <td>6</td>\n",
       "      <td>18</td>\n",
       "      <td>8.929738</td>\n",
       "    </tr>\n",
       "  </tbody>\n",
       "</table>\n",
       "</div>"
      ],
      "text/plain": [
       "   account_id  gender        genre1        genre2      type  games  age  \\\n",
       "0      101530    male  role-playing        action    mobile      8   21   \n",
       "1      731892  female     adventure        action  computer      9   25   \n",
       "2      856432    male        action  role-playing    mobile     19   35   \n",
       "3     1425820    male     adventure     adventure    mobile      8   20   \n",
       "4     1881252    male        action      strategy  computer      6   18   \n",
       "\n",
       "       hours  \n",
       "0   7.573853  \n",
       "1   4.620231  \n",
       "2  13.608988  \n",
       "3   8.648719  \n",
       "4   8.929738  "
      ]
     },
     "execution_count": 105,
     "metadata": {},
     "output_type": "execute_result"
    }
   ],
   "source": [
    "user_activity.head()"
   ]
  },
  {
   "cell_type": "markdown",
   "id": "2754bf8d-7fb6-4c5c-a785-a01988e1bad9",
   "metadata": {},
   "source": [
    "#### Data Exploration & Cleaning"
   ]
  },
  {
   "cell_type": "code",
   "execution_count": 106,
   "id": "637e7d1e-9368-41b8-b1e3-fd00d174a3e4",
   "metadata": {},
   "outputs": [
    {
     "data": {
      "text/plain": [
       "order_id        object\n",
       " account_id      int64\n",
       " start_date     object\n",
       " plan           object\n",
       " amount        float64\n",
       " currency       object\n",
       "Unnamed: 6     float64\n",
       "dtype: object"
      ]
     },
     "execution_count": 106,
     "metadata": {},
     "output_type": "execute_result"
    }
   ],
   "source": [
    "sales.dtypes"
   ]
  },
  {
   "cell_type": "markdown",
   "id": "908d5234-61d8-4518-a99b-8c53dd0d4aff",
   "metadata": {},
   "source": [
    "Unnamed: 6 column should be dropped and we should change the data type of start_date column. Additionally, some column appear to have a trailing whitespace that needs cleaning."
   ]
  },
  {
   "cell_type": "code",
   "execution_count": 107,
   "id": "8455de23-8734-403e-aef7-a86bc94b5cf0",
   "metadata": {},
   "outputs": [],
   "source": [
    "sales = sales.rename(columns=lambda x: x.strip()) # removes the trailing whitespace\n",
    "sales['start_date'] = pd.to_datetime(sales.start_date) # transforms start_date into a datetime format\n",
    "sales.drop(columns= 'Unnamed: 6', inplace= True) # removes the undesired column"
   ]
  },
  {
   "cell_type": "code",
   "execution_count": 108,
   "id": "b07d65b8-0f85-4cd7-9598-8eeea69afb78",
   "metadata": {},
   "outputs": [
    {
     "data": {
      "text/html": [
       "<div>\n",
       "<style scoped>\n",
       "    .dataframe tbody tr th:only-of-type {\n",
       "        vertical-align: middle;\n",
       "    }\n",
       "\n",
       "    .dataframe tbody tr th {\n",
       "        vertical-align: top;\n",
       "    }\n",
       "\n",
       "    .dataframe thead th {\n",
       "        text-align: right;\n",
       "    }\n",
       "</style>\n",
       "<table border=\"1\" class=\"dataframe\">\n",
       "  <thead>\n",
       "    <tr style=\"text-align: right;\">\n",
       "      <th></th>\n",
       "      <th>order_id</th>\n",
       "      <th>plan</th>\n",
       "      <th>currency</th>\n",
       "    </tr>\n",
       "  </thead>\n",
       "  <tbody>\n",
       "    <tr>\n",
       "      <th>count</th>\n",
       "      <td>14788</td>\n",
       "      <td>14788</td>\n",
       "      <td>14788</td>\n",
       "    </tr>\n",
       "    <tr>\n",
       "      <th>unique</th>\n",
       "      <td>14788</td>\n",
       "      <td>3</td>\n",
       "      <td>2</td>\n",
       "    </tr>\n",
       "    <tr>\n",
       "      <th>top</th>\n",
       "      <td>C5G1ckzVUC1V</td>\n",
       "      <td>SMALL</td>\n",
       "      <td>USD</td>\n",
       "    </tr>\n",
       "    <tr>\n",
       "      <th>freq</th>\n",
       "      <td>1</td>\n",
       "      <td>12440</td>\n",
       "      <td>7413</td>\n",
       "    </tr>\n",
       "  </tbody>\n",
       "</table>\n",
       "</div>"
      ],
      "text/plain": [
       "            order_id    plan currency\n",
       "count          14788   14788    14788\n",
       "unique         14788       3        2\n",
       "top     C5G1ckzVUC1V   SMALL      USD\n",
       "freq               1   12440     7413"
      ]
     },
     "execution_count": 108,
     "metadata": {},
     "output_type": "execute_result"
    }
   ],
   "source": [
    "sales.describe(include=['O'])"
   ]
  },
  {
   "cell_type": "code",
   "execution_count": 109,
   "id": "ccb65fa9-392c-4895-813e-0d96bca18a7f",
   "metadata": {},
   "outputs": [
    {
     "data": {
      "text/plain": [
       "order_id      0\n",
       "account_id    0\n",
       "start_date    0\n",
       "plan          0\n",
       "amount        0\n",
       "currency      0\n",
       "dtype: int64"
      ]
     },
     "execution_count": 109,
     "metadata": {},
     "output_type": "execute_result"
    }
   ],
   "source": [
    "sales.isna().sum()"
   ]
  },
  {
   "cell_type": "markdown",
   "id": "a80791f5-7659-43c0-b15c-966acecc63af",
   "metadata": {},
   "source": [
    "No NaN values have been found."
   ]
  },
  {
   "cell_type": "code",
   "execution_count": 110,
   "id": "a376f51c-21f9-4d82-b88e-1f330c5fd355",
   "metadata": {},
   "outputs": [
    {
     "data": {
      "text/html": [
       "<div>\n",
       "<style scoped>\n",
       "    .dataframe tbody tr th:only-of-type {\n",
       "        vertical-align: middle;\n",
       "    }\n",
       "\n",
       "    .dataframe tbody tr th {\n",
       "        vertical-align: top;\n",
       "    }\n",
       "\n",
       "    .dataframe thead th {\n",
       "        text-align: right;\n",
       "    }\n",
       "</style>\n",
       "<table border=\"1\" class=\"dataframe\">\n",
       "  <thead>\n",
       "    <tr style=\"text-align: right;\">\n",
       "      <th></th>\n",
       "      <th>order_id</th>\n",
       "      <th>account_id</th>\n",
       "      <th>start_date</th>\n",
       "      <th>plan</th>\n",
       "      <th>amount</th>\n",
       "      <th>currency</th>\n",
       "    </tr>\n",
       "  </thead>\n",
       "  <tbody>\n",
       "  </tbody>\n",
       "</table>\n",
       "</div>"
      ],
      "text/plain": [
       "Empty DataFrame\n",
       "Columns: [order_id, account_id, start_date, plan, amount, currency]\n",
       "Index: []"
      ]
     },
     "execution_count": 110,
     "metadata": {},
     "output_type": "execute_result"
    }
   ],
   "source": [
    "sales[sales.duplicated()]"
   ]
  },
  {
   "cell_type": "markdown",
   "id": "35fb979f-703c-42b3-8ca0-9d93fb5f4d30",
   "metadata": {},
   "source": [
    "No duplicates have been found."
   ]
  },
  {
   "cell_type": "code",
   "execution_count": 111,
   "id": "9ea9a4e1-8a22-40f6-ab8b-c3bc02cbfdb7",
   "metadata": {},
   "outputs": [
    {
     "data": {
      "text/plain": [
       "account_id      int64\n",
       "gender         object\n",
       "genre1         object\n",
       "genre2         object\n",
       "type           object\n",
       "games           int64\n",
       "age             int64\n",
       "hours         float64\n",
       "dtype: object"
      ]
     },
     "execution_count": 111,
     "metadata": {},
     "output_type": "execute_result"
    }
   ],
   "source": [
    "user_activity.dtypes"
   ]
  },
  {
   "cell_type": "code",
   "execution_count": 112,
   "id": "23453daf-b040-40c7-a7a2-9832c77be6cb",
   "metadata": {},
   "outputs": [
    {
     "data": {
      "text/html": [
       "<div>\n",
       "<style scoped>\n",
       "    .dataframe tbody tr th:only-of-type {\n",
       "        vertical-align: middle;\n",
       "    }\n",
       "\n",
       "    .dataframe tbody tr th {\n",
       "        vertical-align: top;\n",
       "    }\n",
       "\n",
       "    .dataframe thead th {\n",
       "        text-align: right;\n",
       "    }\n",
       "</style>\n",
       "<table border=\"1\" class=\"dataframe\">\n",
       "  <thead>\n",
       "    <tr style=\"text-align: right;\">\n",
       "      <th></th>\n",
       "      <th>gender</th>\n",
       "      <th>genre1</th>\n",
       "      <th>genre2</th>\n",
       "      <th>type</th>\n",
       "    </tr>\n",
       "  </thead>\n",
       "  <tbody>\n",
       "    <tr>\n",
       "      <th>count</th>\n",
       "      <td>2000</td>\n",
       "      <td>2000</td>\n",
       "      <td>2000</td>\n",
       "      <td>2000</td>\n",
       "    </tr>\n",
       "    <tr>\n",
       "      <th>unique</th>\n",
       "      <td>2</td>\n",
       "      <td>6</td>\n",
       "      <td>6</td>\n",
       "      <td>3</td>\n",
       "    </tr>\n",
       "    <tr>\n",
       "      <th>top</th>\n",
       "      <td>male</td>\n",
       "      <td>action</td>\n",
       "      <td>adventure</td>\n",
       "      <td>computer</td>\n",
       "    </tr>\n",
       "    <tr>\n",
       "      <th>freq</th>\n",
       "      <td>1400</td>\n",
       "      <td>588</td>\n",
       "      <td>555</td>\n",
       "      <td>1250</td>\n",
       "    </tr>\n",
       "  </tbody>\n",
       "</table>\n",
       "</div>"
      ],
      "text/plain": [
       "       gender  genre1     genre2      type\n",
       "count    2000    2000       2000      2000\n",
       "unique      2       6          6         3\n",
       "top      male  action  adventure  computer\n",
       "freq     1400     588        555      1250"
      ]
     },
     "execution_count": 112,
     "metadata": {},
     "output_type": "execute_result"
    }
   ],
   "source": [
    "user_activity.describe(include=['O'])"
   ]
  },
  {
   "cell_type": "code",
   "execution_count": 113,
   "id": "dd363297-f04d-4d71-bcfa-375ff2942be6",
   "metadata": {},
   "outputs": [
    {
     "data": {
      "text/html": [
       "<div>\n",
       "<style scoped>\n",
       "    .dataframe tbody tr th:only-of-type {\n",
       "        vertical-align: middle;\n",
       "    }\n",
       "\n",
       "    .dataframe tbody tr th {\n",
       "        vertical-align: top;\n",
       "    }\n",
       "\n",
       "    .dataframe thead th {\n",
       "        text-align: right;\n",
       "    }\n",
       "</style>\n",
       "<table border=\"1\" class=\"dataframe\">\n",
       "  <thead>\n",
       "    <tr style=\"text-align: right;\">\n",
       "      <th></th>\n",
       "      <th>account_id</th>\n",
       "      <th>games</th>\n",
       "      <th>age</th>\n",
       "      <th>hours</th>\n",
       "    </tr>\n",
       "  </thead>\n",
       "  <tbody>\n",
       "    <tr>\n",
       "      <th>count</th>\n",
       "      <td>2.000000e+03</td>\n",
       "      <td>2000.000000</td>\n",
       "      <td>2000.000000</td>\n",
       "      <td>2000.000000</td>\n",
       "    </tr>\n",
       "    <tr>\n",
       "      <th>mean</th>\n",
       "      <td>5.073399e+08</td>\n",
       "      <td>8.157500</td>\n",
       "      <td>25.997000</td>\n",
       "      <td>9.134307</td>\n",
       "    </tr>\n",
       "    <tr>\n",
       "      <th>std</th>\n",
       "      <td>2.890714e+08</td>\n",
       "      <td>4.880226</td>\n",
       "      <td>6.093238</td>\n",
       "      <td>4.324985</td>\n",
       "    </tr>\n",
       "    <tr>\n",
       "      <th>min</th>\n",
       "      <td>1.015300e+05</td>\n",
       "      <td>0.000000</td>\n",
       "      <td>15.000000</td>\n",
       "      <td>0.000000</td>\n",
       "    </tr>\n",
       "    <tr>\n",
       "      <th>25%</th>\n",
       "      <td>2.565783e+08</td>\n",
       "      <td>5.000000</td>\n",
       "      <td>22.000000</td>\n",
       "      <td>6.340461</td>\n",
       "    </tr>\n",
       "    <tr>\n",
       "      <th>50%</th>\n",
       "      <td>5.040000e+08</td>\n",
       "      <td>8.000000</td>\n",
       "      <td>25.000000</td>\n",
       "      <td>8.635053</td>\n",
       "    </tr>\n",
       "    <tr>\n",
       "      <th>75%</th>\n",
       "      <td>7.549967e+08</td>\n",
       "      <td>11.000000</td>\n",
       "      <td>29.000000</td>\n",
       "      <td>11.566813</td>\n",
       "    </tr>\n",
       "    <tr>\n",
       "      <th>max</th>\n",
       "      <td>9.996430e+08</td>\n",
       "      <td>33.000000</td>\n",
       "      <td>55.000000</td>\n",
       "      <td>30.000000</td>\n",
       "    </tr>\n",
       "  </tbody>\n",
       "</table>\n",
       "</div>"
      ],
      "text/plain": [
       "         account_id        games          age        hours\n",
       "count  2.000000e+03  2000.000000  2000.000000  2000.000000\n",
       "mean   5.073399e+08     8.157500    25.997000     9.134307\n",
       "std    2.890714e+08     4.880226     6.093238     4.324985\n",
       "min    1.015300e+05     0.000000    15.000000     0.000000\n",
       "25%    2.565783e+08     5.000000    22.000000     6.340461\n",
       "50%    5.040000e+08     8.000000    25.000000     8.635053\n",
       "75%    7.549967e+08    11.000000    29.000000    11.566813\n",
       "max    9.996430e+08    33.000000    55.000000    30.000000"
      ]
     },
     "execution_count": 113,
     "metadata": {},
     "output_type": "execute_result"
    }
   ],
   "source": [
    "user_activity.describe()"
   ]
  },
  {
   "cell_type": "code",
   "execution_count": 114,
   "id": "f60846e7-cb67-46ce-941d-1fbff028477c",
   "metadata": {},
   "outputs": [
    {
     "data": {
      "text/plain": [
       "account_id    0\n",
       "gender        0\n",
       "genre1        0\n",
       "genre2        0\n",
       "type          0\n",
       "games         0\n",
       "age           0\n",
       "hours         0\n",
       "dtype: int64"
      ]
     },
     "execution_count": 114,
     "metadata": {},
     "output_type": "execute_result"
    }
   ],
   "source": [
    "user_activity.isna().sum()"
   ]
  },
  {
   "cell_type": "markdown",
   "id": "6926167b-0aea-45e4-b7ed-55b2bab7707e",
   "metadata": {},
   "source": [
    "No NaN values have been found."
   ]
  },
  {
   "cell_type": "code",
   "execution_count": 115,
   "id": "7be21017-09cd-4def-b78b-967909ed1f4e",
   "metadata": {},
   "outputs": [
    {
     "data": {
      "text/html": [
       "<div>\n",
       "<style scoped>\n",
       "    .dataframe tbody tr th:only-of-type {\n",
       "        vertical-align: middle;\n",
       "    }\n",
       "\n",
       "    .dataframe tbody tr th {\n",
       "        vertical-align: top;\n",
       "    }\n",
       "\n",
       "    .dataframe thead th {\n",
       "        text-align: right;\n",
       "    }\n",
       "</style>\n",
       "<table border=\"1\" class=\"dataframe\">\n",
       "  <thead>\n",
       "    <tr style=\"text-align: right;\">\n",
       "      <th></th>\n",
       "      <th>account_id</th>\n",
       "      <th>gender</th>\n",
       "      <th>genre1</th>\n",
       "      <th>genre2</th>\n",
       "      <th>type</th>\n",
       "      <th>games</th>\n",
       "      <th>age</th>\n",
       "      <th>hours</th>\n",
       "    </tr>\n",
       "  </thead>\n",
       "  <tbody>\n",
       "  </tbody>\n",
       "</table>\n",
       "</div>"
      ],
      "text/plain": [
       "Empty DataFrame\n",
       "Columns: [account_id, gender, genre1, genre2, type, games, age, hours]\n",
       "Index: []"
      ]
     },
     "execution_count": 115,
     "metadata": {},
     "output_type": "execute_result"
    }
   ],
   "source": [
    "user_activity[user_activity.duplicated()]"
   ]
  },
  {
   "cell_type": "markdown",
   "id": "cd0b7aba-0b4f-440b-a971-eea7c570ba96",
   "metadata": {},
   "source": [
    "No duplicate values have been found."
   ]
  },
  {
   "cell_type": "code",
   "execution_count": 116,
   "id": "9be3cfee-3185-4952-a71a-236535eba128",
   "metadata": {},
   "outputs": [],
   "source": [
    "# set indexes for both dataframes\n",
    "sales.set_index('order_id', inplace= True)\n",
    "user_activity.set_index('account_id', inplace= True)"
   ]
  },
  {
   "cell_type": "markdown",
   "id": "b87c364e-312e-4886-8328-0e84e9c0baa2",
   "metadata": {},
   "source": [
    "### 2. Create Churn Label"
   ]
  },
  {
   "cell_type": "code",
   "execution_count": 117,
   "id": "69f82dc0-5ba5-43df-a127-b4b44fbd51c6",
   "metadata": {},
   "outputs": [
    {
     "data": {
      "text/html": [
       "<div>\n",
       "<style scoped>\n",
       "    .dataframe tbody tr th:only-of-type {\n",
       "        vertical-align: middle;\n",
       "    }\n",
       "\n",
       "    .dataframe tbody tr th {\n",
       "        vertical-align: top;\n",
       "    }\n",
       "\n",
       "    .dataframe thead th {\n",
       "        text-align: right;\n",
       "    }\n",
       "</style>\n",
       "<table border=\"1\" class=\"dataframe\">\n",
       "  <thead>\n",
       "    <tr style=\"text-align: right;\">\n",
       "      <th></th>\n",
       "      <th>account_id</th>\n",
       "      <th>Orders</th>\n",
       "      <th>Date_First_Order</th>\n",
       "      <th>Date_Last_Order</th>\n",
       "      <th>plan</th>\n",
       "      <th>currency</th>\n",
       "    </tr>\n",
       "  </thead>\n",
       "  <tbody>\n",
       "    <tr>\n",
       "      <th>0</th>\n",
       "      <td>101530</td>\n",
       "      <td>4</td>\n",
       "      <td>2019-09-03</td>\n",
       "      <td>2019-12-03</td>\n",
       "      <td>SMALL</td>\n",
       "      <td>EUR</td>\n",
       "    </tr>\n",
       "    <tr>\n",
       "      <th>4</th>\n",
       "      <td>731892</td>\n",
       "      <td>11</td>\n",
       "      <td>2020-02-12</td>\n",
       "      <td>2020-12-12</td>\n",
       "      <td>SMALL</td>\n",
       "      <td>EUR</td>\n",
       "    </tr>\n",
       "    <tr>\n",
       "      <th>15</th>\n",
       "      <td>856432</td>\n",
       "      <td>12</td>\n",
       "      <td>2020-01-25</td>\n",
       "      <td>2020-12-25</td>\n",
       "      <td>SMALL</td>\n",
       "      <td>EUR</td>\n",
       "    </tr>\n",
       "    <tr>\n",
       "      <th>27</th>\n",
       "      <td>1425820</td>\n",
       "      <td>2</td>\n",
       "      <td>2019-06-25</td>\n",
       "      <td>2019-07-25</td>\n",
       "      <td>SMALL</td>\n",
       "      <td>EUR</td>\n",
       "    </tr>\n",
       "    <tr>\n",
       "      <th>29</th>\n",
       "      <td>1881252</td>\n",
       "      <td>1</td>\n",
       "      <td>2019-12-22</td>\n",
       "      <td>2019-12-22</td>\n",
       "      <td>SMALL</td>\n",
       "      <td>USD</td>\n",
       "    </tr>\n",
       "    <tr>\n",
       "      <th>...</th>\n",
       "      <td>...</td>\n",
       "      <td>...</td>\n",
       "      <td>...</td>\n",
       "      <td>...</td>\n",
       "      <td>...</td>\n",
       "      <td>...</td>\n",
       "    </tr>\n",
       "    <tr>\n",
       "      <th>14739</th>\n",
       "      <td>998101168</td>\n",
       "      <td>3</td>\n",
       "      <td>2020-10-13</td>\n",
       "      <td>2020-12-13</td>\n",
       "      <td>SMALL</td>\n",
       "      <td>EUR</td>\n",
       "    </tr>\n",
       "    <tr>\n",
       "      <th>14742</th>\n",
       "      <td>998103378</td>\n",
       "      <td>3</td>\n",
       "      <td>2020-03-14</td>\n",
       "      <td>2020-05-14</td>\n",
       "      <td>SMALL</td>\n",
       "      <td>EUR</td>\n",
       "    </tr>\n",
       "    <tr>\n",
       "      <th>14745</th>\n",
       "      <td>998392913</td>\n",
       "      <td>18</td>\n",
       "      <td>2019-07-03</td>\n",
       "      <td>2020-12-03</td>\n",
       "      <td>MEDIUM</td>\n",
       "      <td>USD</td>\n",
       "    </tr>\n",
       "    <tr>\n",
       "      <th>14763</th>\n",
       "      <td>999546295</td>\n",
       "      <td>17</td>\n",
       "      <td>2019-03-19</td>\n",
       "      <td>2020-07-19</td>\n",
       "      <td>SMALL</td>\n",
       "      <td>EUR</td>\n",
       "    </tr>\n",
       "    <tr>\n",
       "      <th>14780</th>\n",
       "      <td>999642963</td>\n",
       "      <td>8</td>\n",
       "      <td>2020-05-31</td>\n",
       "      <td>2020-12-31</td>\n",
       "      <td>SMALL</td>\n",
       "      <td>USD</td>\n",
       "    </tr>\n",
       "  </tbody>\n",
       "</table>\n",
       "<p>2000 rows × 6 columns</p>\n",
       "</div>"
      ],
      "text/plain": [
       "       account_id  Orders Date_First_Order Date_Last_Order     plan currency\n",
       "0          101530       4       2019-09-03      2019-12-03    SMALL      EUR\n",
       "4          731892      11       2020-02-12      2020-12-12    SMALL      EUR\n",
       "15         856432      12       2020-01-25      2020-12-25    SMALL      EUR\n",
       "27        1425820       2       2019-06-25      2019-07-25    SMALL      EUR\n",
       "29        1881252       1       2019-12-22      2019-12-22    SMALL      USD\n",
       "...           ...     ...              ...             ...      ...      ...\n",
       "14739   998101168       3       2020-10-13      2020-12-13    SMALL      EUR\n",
       "14742   998103378       3       2020-03-14      2020-05-14    SMALL      EUR\n",
       "14745   998392913      18       2019-07-03      2020-12-03   MEDIUM      USD\n",
       "14763   999546295      17       2019-03-19      2020-07-19    SMALL      EUR\n",
       "14780   999642963       8       2020-05-31      2020-12-31    SMALL      USD\n",
       "\n",
       "[2000 rows x 6 columns]"
      ]
     },
     "execution_count": 117,
     "metadata": {},
     "output_type": "execute_result"
    }
   ],
   "source": [
    "number_of_orders = sales.groupby(by=['account_id']).count()['start_date'].to_frame().reset_index() # checking how many purchases have been made by each user\n",
    "first_order_date = sales.groupby('account_id')['start_date'].min().reset_index() # extracts the date of the first purchase for each user\n",
    "last_order_date = sales.groupby('account_id')['start_date'].max().reset_index() # extracts the date of the last purchase for each user\n",
    "\n",
    "useful_information_sales = number_of_orders.merge(first_order_date, how= 'left', on= 'account_id').merge(last_order_date, how='left', on='account_id')\n",
    "useful_information_sales.rename(columns= {'start_date_x': 'Orders', 'start_date_y': 'Date_First_Order', 'start_date': 'Date_Last_Order'}, inplace= True) # renames column after the left merge\n",
    "\n",
    "useful_information_sales = useful_information_sales.merge(sales[['account_id', 'plan', 'currency']], how= 'left', on= 'account_id') # extracts additional useful information from sales dataframe\n",
    "useful_information_sales.drop_duplicates(inplace=True)\n",
    "useful_information_sales"
   ]
  },
  {
   "cell_type": "code",
   "execution_count": 67,
   "id": "256ff0a7-0326-49e9-bc48-20be4ab77afe",
   "metadata": {},
   "outputs": [
    {
     "data": {
      "text/plain": [
       "30065"
      ]
     },
     "execution_count": 67,
     "metadata": {},
     "output_type": "execute_result"
    }
   ],
   "source": [
    "# build the dataframe to be used to modelling with info from sales.csv and user_actiity.csv\n",
    "model_df = user_activity.merge(useful_information_sales, how= 'left', on= 'account_id').set_index('account_id')\n",
    "\n",
    "assert(model_df.shape[0]==user_activity.shape[0], 'Error! There are duplicates in the data')\n",
    "\n",
    "del useful_information_sales, sales, user_activity # release memory by deleting dataframes that won't be used anymore\n",
    "gc.collect()"
   ]
  },
  {
   "cell_type": "code",
   "execution_count": 69,
   "id": "0ef1d59d-62d2-48d2-b3dc-bb72f6517a58",
   "metadata": {},
   "outputs": [
    {
     "data": {
      "text/html": [
       "<div>\n",
       "<style scoped>\n",
       "    .dataframe tbody tr th:only-of-type {\n",
       "        vertical-align: middle;\n",
       "    }\n",
       "\n",
       "    .dataframe tbody tr th {\n",
       "        vertical-align: top;\n",
       "    }\n",
       "\n",
       "    .dataframe thead th {\n",
       "        text-align: right;\n",
       "    }\n",
       "</style>\n",
       "<table border=\"1\" class=\"dataframe\">\n",
       "  <thead>\n",
       "    <tr style=\"text-align: right;\">\n",
       "      <th></th>\n",
       "      <th>gender</th>\n",
       "      <th>genre1</th>\n",
       "      <th>genre2</th>\n",
       "      <th>type</th>\n",
       "      <th>games</th>\n",
       "      <th>age</th>\n",
       "      <th>hours</th>\n",
       "      <th>Orders</th>\n",
       "      <th>Date_First_Order</th>\n",
       "      <th>plan</th>\n",
       "      <th>currency</th>\n",
       "    </tr>\n",
       "    <tr>\n",
       "      <th>account_id</th>\n",
       "      <th></th>\n",
       "      <th></th>\n",
       "      <th></th>\n",
       "      <th></th>\n",
       "      <th></th>\n",
       "      <th></th>\n",
       "      <th></th>\n",
       "      <th></th>\n",
       "      <th></th>\n",
       "      <th></th>\n",
       "      <th></th>\n",
       "    </tr>\n",
       "  </thead>\n",
       "  <tbody>\n",
       "    <tr>\n",
       "      <th>101530</th>\n",
       "      <td>male</td>\n",
       "      <td>role-playing</td>\n",
       "      <td>action</td>\n",
       "      <td>mobile</td>\n",
       "      <td>8</td>\n",
       "      <td>21</td>\n",
       "      <td>7.573853</td>\n",
       "      <td>4</td>\n",
       "      <td>2019-09-03</td>\n",
       "      <td>SMALL</td>\n",
       "      <td>EUR</td>\n",
       "    </tr>\n",
       "    <tr>\n",
       "      <th>731892</th>\n",
       "      <td>female</td>\n",
       "      <td>adventure</td>\n",
       "      <td>action</td>\n",
       "      <td>computer</td>\n",
       "      <td>9</td>\n",
       "      <td>25</td>\n",
       "      <td>4.620231</td>\n",
       "      <td>11</td>\n",
       "      <td>2020-02-12</td>\n",
       "      <td>SMALL</td>\n",
       "      <td>EUR</td>\n",
       "    </tr>\n",
       "    <tr>\n",
       "      <th>856432</th>\n",
       "      <td>male</td>\n",
       "      <td>action</td>\n",
       "      <td>role-playing</td>\n",
       "      <td>mobile</td>\n",
       "      <td>19</td>\n",
       "      <td>35</td>\n",
       "      <td>13.608988</td>\n",
       "      <td>12</td>\n",
       "      <td>2020-01-25</td>\n",
       "      <td>SMALL</td>\n",
       "      <td>EUR</td>\n",
       "    </tr>\n",
       "    <tr>\n",
       "      <th>1425820</th>\n",
       "      <td>male</td>\n",
       "      <td>adventure</td>\n",
       "      <td>adventure</td>\n",
       "      <td>mobile</td>\n",
       "      <td>8</td>\n",
       "      <td>20</td>\n",
       "      <td>8.648719</td>\n",
       "      <td>2</td>\n",
       "      <td>2019-06-25</td>\n",
       "      <td>SMALL</td>\n",
       "      <td>EUR</td>\n",
       "    </tr>\n",
       "    <tr>\n",
       "      <th>1881252</th>\n",
       "      <td>male</td>\n",
       "      <td>action</td>\n",
       "      <td>strategy</td>\n",
       "      <td>computer</td>\n",
       "      <td>6</td>\n",
       "      <td>18</td>\n",
       "      <td>8.929738</td>\n",
       "      <td>1</td>\n",
       "      <td>2019-12-22</td>\n",
       "      <td>SMALL</td>\n",
       "      <td>USD</td>\n",
       "    </tr>\n",
       "  </tbody>\n",
       "</table>\n",
       "</div>"
      ],
      "text/plain": [
       "            gender        genre1        genre2      type  games  age  \\\n",
       "account_id                                                             \n",
       "101530        male  role-playing        action    mobile      8   21   \n",
       "731892      female     adventure        action  computer      9   25   \n",
       "856432        male        action  role-playing    mobile     19   35   \n",
       "1425820       male     adventure     adventure    mobile      8   20   \n",
       "1881252       male        action      strategy  computer      6   18   \n",
       "\n",
       "                hours  Orders Date_First_Order    plan currency  \n",
       "account_id                                                       \n",
       "101530       7.573853       4       2019-09-03   SMALL      EUR  \n",
       "731892       4.620231      11       2020-02-12   SMALL      EUR  \n",
       "856432      13.608988      12       2020-01-25   SMALL      EUR  \n",
       "1425820      8.648719       2       2019-06-25   SMALL      EUR  \n",
       "1881252      8.929738       1       2019-12-22   SMALL      USD  "
      ]
     },
     "execution_count": 69,
     "metadata": {},
     "output_type": "execute_result"
    }
   ],
   "source": [
    "model_df.head()"
   ]
  },
  {
   "cell_type": "code",
   "execution_count": null,
   "id": "3f20caa3-323e-429c-a765-a6b969425181",
   "metadata": {},
   "outputs": [],
   "source": [
    "# remove users with less than 3 orders\n",
    "\n"
   ]
  },
  {
   "cell_type": "code",
   "execution_count": null,
   "id": "c79d4c6d-addf-4800-b444-54e45246b364",
   "metadata": {},
   "outputs": [],
   "source": []
  },
  {
   "cell_type": "code",
   "execution_count": null,
   "id": "962b3d33-92a4-4631-a290-f6ddb9c278f7",
   "metadata": {},
   "outputs": [],
   "source": []
  },
  {
   "cell_type": "markdown",
   "id": "00c30910-bcd1-4397-99f3-042075527efa",
   "metadata": {},
   "source": [
    "### 3. Feature Engineering"
   ]
  },
  {
   "cell_type": "markdown",
   "id": "7f47b908-2310-4361-bdad-eab58082cbd5",
   "metadata": {},
   "source": [
    "encoding"
   ]
  },
  {
   "cell_type": "markdown",
   "id": "db335de6-e184-4a1b-8f6a-d14e5fdb053a",
   "metadata": {},
   "source": [
    "### 4. Model Building"
   ]
  },
  {
   "cell_type": "code",
   "execution_count": null,
   "id": "b1baaee4-bf02-4e3c-9a82-e5ebd0ecc75b",
   "metadata": {},
   "outputs": [],
   "source": []
  },
  {
   "cell_type": "code",
   "execution_count": null,
   "id": "b6ff40cf-3996-4822-b218-9b20c1ecc99a",
   "metadata": {},
   "outputs": [],
   "source": []
  },
  {
   "cell_type": "markdown",
   "id": "db1c54d3-7bcc-4383-89e4-3ab6186c01bc",
   "metadata": {},
   "source": [
    "### 5. Model Evaluation"
   ]
  },
  {
   "cell_type": "code",
   "execution_count": null,
   "id": "e98ff057-4fc7-445e-a71e-57430c786fd0",
   "metadata": {},
   "outputs": [],
   "source": []
  },
  {
   "cell_type": "code",
   "execution_count": null,
   "id": "d9f8b67d-8f1c-4668-b314-44d92f58fc48",
   "metadata": {},
   "outputs": [],
   "source": []
  },
  {
   "cell_type": "markdown",
   "id": "ffb61386-ef2c-454b-a8eb-c97cfaaabb7d",
   "metadata": {},
   "source": [
    "### 6. Conclusions"
   ]
  },
  {
   "cell_type": "code",
   "execution_count": null,
   "id": "5f60a36f-2d96-4d61-82dd-9ef069f90ea2",
   "metadata": {},
   "outputs": [],
   "source": []
  },
  {
   "cell_type": "markdown",
   "id": "f26dbc7c-8e8c-4f4d-ae97-937921cc1673",
   "metadata": {},
   "source": [
    "### 7. Predictions"
   ]
  },
  {
   "cell_type": "code",
   "execution_count": null,
   "id": "ae5ab932-1962-4e7d-be69-e586f205fe75",
   "metadata": {},
   "outputs": [],
   "source": []
  }
 ],
 "metadata": {
  "kernelspec": {
   "display_name": "churn",
   "language": "python",
   "name": "churn"
  },
  "language_info": {
   "codemirror_mode": {
    "name": "ipython",
    "version": 3
   },
   "file_extension": ".py",
   "mimetype": "text/x-python",
   "name": "python",
   "nbconvert_exporter": "python",
   "pygments_lexer": "ipython3",
   "version": "3.10.9"
  }
 },
 "nbformat": 4,
 "nbformat_minor": 5
}
